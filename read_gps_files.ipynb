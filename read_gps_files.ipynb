{
 "cells": [
  {
   "cell_type": "markdown",
   "metadata": {},
   "source": [
    "### Python script to merge GPS information form AWI Polar-X planes\n",
    "author Ingmar Nitze - ingmar.nitze@awi.de"
   ]
  },
  {
   "cell_type": "markdown",
   "metadata": {},
   "source": [
    "#### ToDo List\n",
    "None"
   ]
  },
  {
   "cell_type": "code",
   "execution_count": null,
   "metadata": {},
   "outputs": [],
   "source": [
    "import pandas as pd\n",
    "import os\n",
    "import glob\n",
    "import geopandas as gpd\n",
    "import fiona\n",
    "from shapely.geometry import Point, LineString, shape\n",
    "fiona.drvsupport.supported_drivers['KML'] = 'rw' "
   ]
  },
  {
   "cell_type": "markdown",
   "metadata": {},
   "source": [
    "### Settings "
   ]
  },
  {
   "cell_type": "code",
   "execution_count": null,
   "metadata": {},
   "outputs": [],
   "source": [
    "#DIRECTORY = r'C:\\Users\\initze\\OneDrive\\136_Expedition_Planning\\2021_PermaX_WestAlaska\\GPS_Export\\GPS1'\n",
    "DIRECTORY = r'N:\\Response\\Restricted_Airborne\\MACs\\2021_Perma-X_Alaska\\00_GPS\\GPS_1'"
   ]
  },
  {
   "cell_type": "markdown",
   "metadata": {},
   "source": [
    "### Functions "
   ]
  },
  {
   "cell_type": "code",
   "execution_count": null,
   "metadata": {},
   "outputs": [],
   "source": [
    "def load_file(f):\n",
    "    cname = (os.path.basename(f).split('.')[1]).split('__')[0]\n",
    "    df = pd.read_table(f, delim_whitespace=True, header=None, names=['timestamp', cname], index_col='timestamp')\n",
    "    return df"
   ]
  },
  {
   "cell_type": "code",
   "execution_count": null,
   "metadata": {},
   "outputs": [],
   "source": [
    "def to_decimal_degrees(number, factor=1):\n",
    "    s = str(number)\n",
    "    splitlen = len(s.split('.')[0])\n",
    "    float(s[splitlen-2:])/60\n",
    "    return float(s[:splitlen-2]) + float(s[splitlen-2:])/60"
   ]
  },
  {
   "cell_type": "code",
   "execution_count": null,
   "metadata": {},
   "outputs": [],
   "source": [
    "def process_dataset(directory):\n",
    "    \n",
    "    # get filename\n",
    "    filename = os.path.split(directory)[-1]\n",
    "    \n",
    "    # Create filelist and import to Dataframe\n",
    "    lats = flist = glob.glob(directory + '/*/*.LAT___*.dat')\n",
    "    lons = flist = glob.glob(directory + '/*/*.LON___*.dat')\n",
    "    flist = lats + lons\n",
    "    \n",
    "    # load and merge data\n",
    "    df_list = []\n",
    "    for f in flist:\n",
    "        try:\n",
    "            df_tmp = load_file(f)\n",
    "            df_list.append(df_tmp)\n",
    "        except:\n",
    "            continue\n",
    "    df = pd.concat(df_list, axis=1)\n",
    "    \n",
    "    df_ll = df.dropna(subset=['LON']).drop_duplicates().reset_index().dropna(axis=1)\n",
    "    df_ll['LON'] = df_ll['LON'].apply(to_decimal_degrees)*-1\n",
    "    df_ll['LAT'] = df_ll['LAT'].apply(to_decimal_degrees)\n",
    "\n",
    "    geom = gpd.points_from_xy(df_ll.LON, df_ll.LAT)\n",
    "    \n",
    "    # Create Geodataframe and export\n",
    "    gdf = gpd.GeoDataFrame(df_ll, geometry=geom)\n",
    "\n",
    "    outfile = f'{filename}.geojson'\n",
    "    gdf.to_file(outfile, driver='GeoJSON')\n",
    "    # Convert points to track/Line \n",
    "    outfile_line_json = f'{filename}_line.geojson'\n",
    "    outfile_line_kml = f'{filename}_line.kml'\n",
    "\n",
    "    gdf_line = LineString(gdf.geometry.tolist())\n",
    "    gds = gpd.GeoSeries(data=gdf_line)\n",
    "\n",
    "    if not os.path.exists(outfile_line_json):\n",
    "        gds.to_file(outfile_line_json, driver='GeoJSON')\n",
    "    else:\n",
    "        print('File already exists')\n",
    "\n",
    "    if not os.path.exists(outfile_line_kml):\n",
    "        gds.to_file(outfile_line_kml, driver='KML')\n",
    "    else:\n",
    "        print('File already exists')"
   ]
  },
  {
   "cell_type": "markdown",
   "metadata": {},
   "source": [
    "#### Check for input sub-directories "
   ]
  },
  {
   "cell_type": "code",
   "execution_count": null,
   "metadata": {},
   "outputs": [],
   "source": [
    "directories = [d for d in glob.glob(DIRECTORY + '/*') if os.path.isdir(d)]"
   ]
  },
  {
   "cell_type": "code",
   "execution_count": null,
   "metadata": {},
   "outputs": [],
   "source": [
    "directories"
   ]
  },
  {
   "cell_type": "markdown",
   "metadata": {},
   "source": [
    "#### Run processing "
   ]
  },
  {
   "cell_type": "code",
   "execution_count": null,
   "metadata": {},
   "outputs": [],
   "source": [
    "for d in directories:\n",
    "    process_dataset(d)"
   ]
  }
 ],
 "metadata": {
  "kernelspec": {
   "display_name": "Python 3",
   "language": "python",
   "name": "python3"
  },
  "language_info": {
   "codemirror_mode": {
    "name": "ipython",
    "version": 3
   },
   "file_extension": ".py",
   "mimetype": "text/x-python",
   "name": "python",
   "nbconvert_exporter": "python",
   "pygments_lexer": "ipython3",
   "version": "3.6.5"
  }
 },
 "nbformat": 4,
 "nbformat_minor": 2
}
