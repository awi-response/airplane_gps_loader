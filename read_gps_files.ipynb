{
 "cells": [
  {
   "cell_type": "markdown",
   "metadata": {},
   "source": [
    "### Python script to merge GPS information form AWI Polar-X planes\n",
    "author Ingmar Nitze - ingmar.nitze@awi.de"
   ]
  },
  {
   "cell_type": "markdown",
   "metadata": {},
   "source": [
    "#### ToDo List\n",
    "1. points to line conversion **Done**\n",
    "2. only load LAT/LON (simplify loading)\n",
    "3. Create wrapping function"
   ]
  },
  {
   "cell_type": "code",
   "execution_count": 37,
   "metadata": {},
   "outputs": [],
   "source": [
    "import pandas as pd\n",
    "import os\n",
    "import glob\n",
    "import geopandas as gpd\n",
    "import fiona\n",
    "from shapely.geometry import Point, LineString, shape\n",
    "fiona.drvsupport.supported_drivers['KML'] = 'rw' "
   ]
  },
  {
   "cell_type": "code",
   "execution_count": 38,
   "metadata": {},
   "outputs": [],
   "source": [
    "def load_file(f):\n",
    "    cname = (os.path.basename(f).split('.')[1]).split('__')[0]\n",
    "    df = pd.read_table(f, delim_whitespace=True, header=None, names=['timestamp', cname], index_col='timestamp')\n",
    "    return df"
   ]
  },
  {
   "cell_type": "code",
   "execution_count": 39,
   "metadata": {},
   "outputs": [],
   "source": [
    "def to_decimal_degrees(number, factor=1):\n",
    "    s = str(number)\n",
    "    splitlen = len(s.split('.')[0])\n",
    "    float(s[splitlen-2:])/60\n",
    "    return float(s[:splitlen-2]) + float(s[splitlen-2:])/60"
   ]
  },
  {
   "cell_type": "code",
   "execution_count": 40,
   "metadata": {},
   "outputs": [],
   "source": [
    "#DIRECTORY = r'C:\\Users\\initze\\OneDrive\\136_Expedition_Planning\\2021_PermaX_WestAlaska\\GPS_Export\\GPS1'\n",
    "DIRECTORY = r'N:\\Response\\Restricted_Airborne\\MACs\\2021_Perma-X_Alaska\\00_GPS\\GPS_1'"
   ]
  },
  {
   "cell_type": "code",
   "execution_count": 41,
   "metadata": {},
   "outputs": [
    {
     "data": {
      "text/plain": [
       "['N:\\\\Response\\\\Restricted_Airborne\\\\MACs\\\\2021_Perma-X_Alaska\\\\00_GPS\\\\GPS_1\\\\2107010701',\n",
       " 'N:\\\\Response\\\\Restricted_Airborne\\\\MACs\\\\2021_Perma-X_Alaska\\\\00_GPS\\\\GPS_1\\\\2107020801',\n",
       " 'N:\\\\Response\\\\Restricted_Airborne\\\\MACs\\\\2021_Perma-X_Alaska\\\\00_GPS\\\\GPS_1\\\\2107030901',\n",
       " 'N:\\\\Response\\\\Restricted_Airborne\\\\MACs\\\\2021_Perma-X_Alaska\\\\00_GPS\\\\GPS_1\\\\2107091001',\n",
       " 'N:\\\\Response\\\\Restricted_Airborne\\\\MACs\\\\2021_Perma-X_Alaska\\\\00_GPS\\\\GPS_1\\\\2107101101']"
      ]
     },
     "execution_count": 41,
     "metadata": {},
     "output_type": "execute_result"
    }
   ],
   "source": [
    "glob.glob(DIRECTORY + '/*')"
   ]
  },
  {
   "cell_type": "code",
   "execution_count": 42,
   "metadata": {},
   "outputs": [],
   "source": [
    "directory = glob.glob(DIRECTORY + '/*')[-2]"
   ]
  },
  {
   "cell_type": "code",
   "execution_count": 43,
   "metadata": {},
   "outputs": [],
   "source": [
    "filename = os.path.split(directory)[-1]"
   ]
  },
  {
   "cell_type": "markdown",
   "metadata": {},
   "source": [
    "#### Create filelist and import to Dataframe"
   ]
  },
  {
   "cell_type": "code",
   "execution_count": 44,
   "metadata": {},
   "outputs": [],
   "source": [
    "flist = glob.glob(directory + '/*/*.dat')"
   ]
  },
  {
   "cell_type": "code",
   "execution_count": 45,
   "metadata": {},
   "outputs": [],
   "source": [
    "df_list = []\n",
    "for f in flist:\n",
    "    try:\n",
    "        df_tmp = load_file(f)\n",
    "        df_list.append(df_tmp)\n",
    "    except:\n",
    "        continue"
   ]
  },
  {
   "cell_type": "code",
   "execution_count": 46,
   "metadata": {},
   "outputs": [],
   "source": [
    "df = pd.concat(df_list, axis=1)"
   ]
  },
  {
   "cell_type": "markdown",
   "metadata": {},
   "source": [
    "#### Recalculate and convert value to correct format "
   ]
  },
  {
   "cell_type": "code",
   "execution_count": 47,
   "metadata": {},
   "outputs": [],
   "source": [
    "df_ll = df.dropna(subset=['LON']).drop_duplicates().reset_index().dropna(axis=1)\n",
    "df_ll['LON'] = df_ll['LON'].apply(to_decimal_degrees)*-1\n",
    "df_ll['LAT'] = df_ll['LAT'].apply(to_decimal_degrees)"
   ]
  },
  {
   "cell_type": "code",
   "execution_count": 48,
   "metadata": {},
   "outputs": [],
   "source": [
    "geom = gpd.points_from_xy(df_ll.LON, df_ll.LAT)"
   ]
  },
  {
   "cell_type": "markdown",
   "metadata": {},
   "source": [
    "#### Create Geodataframe and export\n"
   ]
  },
  {
   "cell_type": "code",
   "execution_count": 49,
   "metadata": {},
   "outputs": [],
   "source": [
    "gdf = gpd.GeoDataFrame(df_ll, geometry=geom)"
   ]
  },
  {
   "cell_type": "code",
   "execution_count": 50,
   "metadata": {},
   "outputs": [],
   "source": [
    "outfile = f'{filename}.geojson'\n",
    "gdf.to_file(outfile, driver='GeoJSON')"
   ]
  },
  {
   "cell_type": "markdown",
   "metadata": {},
   "source": [
    "#### Convert points to track/Line "
   ]
  },
  {
   "cell_type": "code",
   "execution_count": 51,
   "metadata": {},
   "outputs": [],
   "source": [
    "outfile_line_json = f'{filename}_line.geojson'\n",
    "outfile_line_kml = f'{filename}_line.kml'"
   ]
  },
  {
   "cell_type": "code",
   "execution_count": 52,
   "metadata": {},
   "outputs": [],
   "source": [
    "gdf_line = LineString(gdf.geometry.tolist())\n",
    "gds = gpd.GeoSeries(data=gdf_line)"
   ]
  },
  {
   "cell_type": "code",
   "execution_count": 53,
   "metadata": {},
   "outputs": [],
   "source": [
    "if not os.path.exists(outfile_line_json):\n",
    "    gds.to_file(outfile_line_json, driver='GeoJSON')\n",
    "else:\n",
    "    print('File already exists')"
   ]
  },
  {
   "cell_type": "code",
   "execution_count": 54,
   "metadata": {},
   "outputs": [],
   "source": [
    "if not os.path.exists(outfile_line_kml):\n",
    "    gds.to_file(outfile_line_kml, driver='KML')\n",
    "else:\n",
    "    print('File already exists')"
   ]
  },
  {
   "cell_type": "code",
   "execution_count": null,
   "metadata": {},
   "outputs": [],
   "source": []
  },
  {
   "cell_type": "code",
   "execution_count": null,
   "metadata": {},
   "outputs": [],
   "source": []
  },
  {
   "cell_type": "code",
   "execution_count": null,
   "metadata": {},
   "outputs": [],
   "source": []
  }
 ],
 "metadata": {
  "kernelspec": {
   "display_name": "Python 3",
   "language": "python",
   "name": "python3"
  },
  "language_info": {
   "codemirror_mode": {
    "name": "ipython",
    "version": 3
   },
   "file_extension": ".py",
   "mimetype": "text/x-python",
   "name": "python",
   "nbconvert_exporter": "python",
   "pygments_lexer": "ipython3",
   "version": "3.6.5"
  }
 },
 "nbformat": 4,
 "nbformat_minor": 2
}
